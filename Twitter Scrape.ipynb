{
 "cells": [
  {
   "cell_type": "code",
   "execution_count": 2,
   "metadata": {},
   "outputs": [],
   "source": [
    "import pandas as pd, tweepy\n",
    "import nump\n",
    "\n",
    "consumer_key = 'B3Xa8vhhGkN6VFxrn4nKkxws8';\n",
    "consumer_secret ='Y5RytaByPpJkk3aGjTfHFpR1JrcU7JC1TGuprbjwSMXAMA7sBT';\n",
    "access_token = '1314362391837265922-X11kfZOaBkIfAJEy1NLGB10cZfeW0b';\n",
    "access_token_secret = '20PWHZ3uKq3g0haZFTzFiqty1QTnTZtl76smZkinGt7HA';\n",
    "\n",
    "auth = tweepy.OAuthHandler(consumer_key, consumer_secret) \n",
    "auth.set_access_token(access_token, access_token_secret)\n",
    "api = tweepy.API(auth)\n",
    "\n",
    "def fetch_tw(ids, tweet_excel):\n",
    "    list_of_tw_status = api.statuses_lookup(ids, tweet_mode= \"extended\")\n",
    "    empty_data = pd.DataFrame()\n",
    "    for status in list_of_tw_status:\n",
    "            tweet_elem = {\"tweet_id\": status.id,\n",
    "                     \"screen_name\": status.user.screen_name,\n",
    "                     \"tweet\":status.full_text,\n",
    "                     \"date\":status.created_at,\n",
    "                     \"favorites\":status.favorite_count,\n",
    "                     \"retweets\": status.retweet_count,\n",
    "                     \"retweeted\": status.retweeted,\n",
    "                     \"user_followers\": status.user.followers_count,\n",
    "                     \"user_verified\": status.user.verified,\n",
    "                          \n",
    "                         }\n",
    "            empty_data = empty_data.append(tweet_elem, ignore_index = True)\n",
    "    empty_data.to_csv(tweet_excel, mode=\"a\")\n",
    "    \n",
    "\n",
    "def tweet_text(tweet_links, tweet_csv):\n",
    "    tweet_url = pd.read_csv(tweet_links, index_col= None, header = None, names = [\"links\"])\n",
    "    tweet_url.head()\n",
    "    af = lambda x: x[\"links\"].split(\"/\")[-1]\n",
    "    tweet_url['id'] = tweet_url.apply(af, axis=1)\n",
    "    ids = tweet_url['id'].tolist()\n",
    "    total_count = len(ids)\n",
    "    chunks = (total_count - 1) // 50 + 1\n",
    "\n",
    "    for i in range(chunks):\n",
    "            batch = ids[i*50:(i+1)*50]\n",
    "            result = fetch_tw(batch, tweet_csv)    \n",
    "            \n",
    "tweet_text(\"Tesla_tweets.txt\",\"Tesla_tweets.csv\");"
   ]
  },
  {
   "cell_type": "code",
   "execution_count": null,
   "metadata": {},
   "outputs": [],
   "source": [
    "tweet_text(\"volkswagen_tweetsmax_2015.txt\",\"volkswagen_tweets.csv\");"
   ]
  },
  {
   "cell_type": "code",
   "execution_count": 7,
   "metadata": {},
   "outputs": [],
   "source": [
    "tweet_text(\"wellsfargo_tweets_2016.txt\",\"wellsfargo_tweets.csv\");"
   ]
  },
  {
   "cell_type": "code",
   "execution_count": null,
   "metadata": {},
   "outputs": [],
   "source": [
    "tweet_text(\"equifax_tweets_2017.txt\",\"equifax_tweets.csv\");"
   ]
  },
  {
   "cell_type": "code",
   "execution_count": 29,
   "metadata": {},
   "outputs": [],
   "source": [
    "import numpy as np\n",
    "import re\n",
    "def remove_pattern(input_txt, pattern):\n",
    "    r = re.findall(pattern, input_txt)\n",
    "    for i in r:\n",
    "        input_txt = re.sub(i, '', input_txt)        \n",
    "    return input_txt\n",
    "def clean_tweets(lst):\n",
    "    # remove twitter Return handles (RT @xxx:)\n",
    "    lst = np.vectorize(remove_pattern)(lst, \"RT @[\\w]*:\")\n",
    "    # remove twitter handles (@xxx)\n",
    "    lst = np.vectorize(remove_pattern)(lst, \"@[\\w]*\")\n",
    "    # remove URL links (httpxxx)\n",
    "    lst = np.vectorize(remove_pattern)(lst, \"https?://[A-Za-z0-9./]*\")\n",
    "    # remove special characters, numbers, punctuations (except for #)\n",
    "    lst = np.core.defchararray.replace(lst, \"[^a-zA-Z#]\", \" \")\n",
    "    return lst\n",
    "def sentiment_analyzer_scores(text):\n",
    "    score = analyser.polarity_scores(text)\n",
    "    lb = score['compound']\n",
    "    if lb >= 0.05:\n",
    "        return 1\n",
    "    elif (lb > -0.05) and (lb < 0.05):\n",
    "        return 0\n",
    "    else:\n",
    "        return -1"
   ]
  },
  {
   "cell_type": "code",
   "execution_count": 3,
   "metadata": {},
   "outputs": [
    {
     "name": "stdout",
     "output_type": "stream",
     "text": [
      "      Unnamed: 0                 date favorites retweeted retweets  \\\n",
      "0              0  2015-09-30 23:59:01       0.0       0.0      0.0   \n",
      "1              1  2015-09-30 23:59:11       0.0       0.0      0.0   \n",
      "2              2  2015-09-30 23:49:47       0.0       0.0      0.0   \n",
      "3              3  2015-09-30 23:58:58       0.0       0.0      0.0   \n",
      "4              4  2015-09-30 23:55:09       0.0       0.0      0.0   \n",
      "...          ...                  ...       ...       ...      ...   \n",
      "10087         39  2015-09-30 05:01:37       0.0       0.0      0.0   \n",
      "10088         40  2015-09-30 04:52:01       0.0       0.0      0.0   \n",
      "10089         41  2015-09-30 04:54:35       0.0       0.0      0.0   \n",
      "10090         42  2015-09-30 04:48:08       0.0       0.0      0.0   \n",
      "10091         43  2015-09-30 04:54:07       0.0       0.0      0.0   \n",
      "\n",
      "          screen_name                                              tweet  \\\n",
      "0       tuitAustralia  Volkswagen scandal: Choice car test points to ...   \n",
      "1      bhavik_bhavsar  Cars to face on-road tests after Volkswagen sc...   \n",
      "2        juhasaarinen  ACCC update on Volkswagen enforcement investig...   \n",
      "3        latest_ooyuz  Volkswagen is Too Big To Fail, Especially in G...   \n",
      "4         clightfilms  Volkswagen cars aren't the only ones releasing...   \n",
      "...               ...                                                ...   \n",
      "10087    Michael_CAFC  Mercury News editorial: Volkswagen cheating on...   \n",
      "10088   ArmandoAburto  Volkswagen staff acted criminally, says board ...   \n",
      "10089        Honda175  At the same time, they're trying to destroy Vo...   \n",
      "10090        TopRT_PK  @RT_com: \"Time’s up for fossil fuels – Tesla C...   \n",
      "10091  relenglishnews  Related News: Volkswagen: The scandal explaine...   \n",
      "\n",
      "                    tweet_id user_followers user_verified  \n",
      "0      6.493729122820465e+17         1630.0           0.0  \n",
      "1      6.493729525516247e+17          451.0           0.0  \n",
      "2      6.493705870101709e+17        14115.0           1.0  \n",
      "3       6.49372898931667e+17         1309.0           0.0  \n",
      "4      6.493719392412262e+17          930.0           0.0  \n",
      "...                      ...            ...           ...  \n",
      "10087  6.490866769254154e+17          134.0           0.0  \n",
      "10088  6.490842597480571e+17          290.0           0.0  \n",
      "10089  6.490849072606577e+17         2180.0           0.0  \n",
      "10090  6.490832823074652e+17         1154.0           0.0  \n",
      "10091   6.49084786338857e+17           97.0           0.0  \n",
      "\n",
      "[10092 rows x 10 columns]\n"
     ]
    }
   ],
   "source": [
    "df = pd.read_csv('volkswagen_tweets.csv')\n",
    "print(df)"
   ]
  },
  {
   "cell_type": "code",
   "execution_count": 22,
   "metadata": {},
   "outputs": [],
   "source": [
    "from vaderSentiment.vaderSentiment import SentimentIntensityAnalyzer\n",
    "analyser = SentimentIntensityAnalyzer()"
   ]
  },
  {
   "cell_type": "code",
   "execution_count": 48,
   "metadata": {},
   "outputs": [
    {
     "name": "stdout",
     "output_type": "stream",
     "text": [
      "Raw Tweet: tweet\n",
      "Cleaned Tweet: tweet\n",
      "Favorites: favorites  Retweeted: retweeted  Retweets: retweets  User Followers: user_followers  User_Verified: user_verified\n",
      "0.0\n",
      "\n",
      "Raw Tweet: Understanding The 'Test Mode' That Let VW Trick The Emissions Test \n",
      "Volkswagen faces a max… http://t.co/FWbNIlU2VF http://t.co/L68azsUnSz\n",
      "Cleaned Tweet: Understanding The 'Test Mode' That Let VW Trick The Emissions Test \n",
      "Volkswagen faces a max…  \n",
      "Favorites: 0.0  Retweeted: 0.0  Retweets: 0.0  User Followers: 10481.0  User_Verified: 0.0\n",
      "-0.0516\n",
      "\n",
      "Raw Tweet: Volkswagen Was \"So Close\" To Joining Formula One Says Mosley: Max Mosley, former president of Formula One’s go... http://t.co/AZ090pSI9K\n",
      "Cleaned Tweet: Volkswagen Was \"So Close\" To Joining Formula One Says Mosley: Max Mosley, former president of Formula One’s go... \n",
      "Favorites: 0.0  Retweeted: 0.0  Retweets: 0.0  User Followers: 1270.0  User_Verified: 0.0\n",
      "0.0\n",
      "\n",
      "Raw Tweet: Volkswagen in deep trouble as diesel fuel emission scandal spreads to Europe - Daily Sabah http://t.co/RQfNXFIqsn\n",
      "\n",
      "Max Weber in practice...\n",
      "Cleaned Tweet: Volkswagen in deep trouble as diesel fuel emission scandal spreads to Europe - Daily Sabah \n",
      "\n",
      "Max Weber in practice...\n",
      "Favorites: 2.0  Retweeted: 0.0  Retweets: 0.0  User Followers: 995.0  User_Verified: 0.0\n",
      "-0.6808\n",
      "\n",
      "Raw Tweet: #sales #tips #it Volkswagen Was \"So Close\" To Joining Formula One Says Mosley: Max Mosley... http://t.co/DPkq8I1fCm #advices #followback\n",
      "Cleaned Tweet: #sales #tips #it Volkswagen Was \"So Close\" To Joining Formula One Says Mosley: Max Mosley...  #advices #followback\n",
      "Favorites: 0.0  Retweeted: 0.0  Retweets: 0.0  User Followers: 1939.0  User_Verified: 0.0\n",
      "0.0\n",
      "\n"
     ]
    }
   ],
   "source": [
    "import csv\n",
    "count = 0 \n",
    "tweet_label = 6\n",
    "favorites = 2\n",
    "retweeted = 3\n",
    "retweets = 4\n",
    "user_followers = 8\n",
    "user_verified = 9\n",
    "\n",
    "with open('volkswagen_tweets.csv', 'r') as file:\n",
    "    reader = csv.reader(file)\n",
    "    for row in reader:\n",
    "        if(count < 5):\n",
    "            count = count + 1\n",
    "            print('Raw Tweet:', row[tweet_label])\n",
    "            ## need to unvectorize to use\n",
    "            print('Cleaned Tweet:', clean_tweets(row[tweet_label]))\n",
    "            polarity = analyser.polarity_scores(row[tweet_label])\n",
    "            print('Favorites:', row[favorites], ' Retweeted:', row[retweeted], ' Retweets:', row[retweets], ' User Followers:', row[user_followers], \n",
    "                  ' User_Verified:',row[user_verified])\n",
    "            print(polarity['compound'])\n",
    "            print('')\n",
    "            \n",
    "           "
   ]
  }
 ],
 "metadata": {
  "kernelspec": {
   "display_name": "Python 3",
   "language": "python",
   "name": "python3"
  },
  "language_info": {
   "codemirror_mode": {
    "name": "ipython",
    "version": 3
   },
   "file_extension": ".py",
   "mimetype": "text/x-python",
   "name": "python",
   "nbconvert_exporter": "python",
   "pygments_lexer": "ipython3",
   "version": "3.8.3"
  }
 },
 "nbformat": 4,
 "nbformat_minor": 2
}
