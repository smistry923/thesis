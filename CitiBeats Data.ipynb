{
 "cells": [
  {
   "cell_type": "code",
   "execution_count": 4,
   "metadata": {},
   "outputs": [],
   "source": [
    "import json\n",
    "import pandas as pd\n",
    "import numpy as np\n",
    "\n",
    "df = pd.read_csv('data.safaricom.csv', converters={'json_column_name': eval})"
   ]
  },
  {
   "cell_type": "code",
   "execution_count": 5,
   "metadata": {},
   "outputs": [
    {
     "name": "stdout",
     "output_type": "stream",
     "text": [
      "['en', 'Barcl bank has partnered with Safaricom on PO financing. For the businesses that may require financial support. Inv… https://t.co/rjW6VvNpOj', 'en']\n"
     ]
    }
   ],
   "source": [
    "json_object = json.loads(df['original'][0])\n",
    "json_object.items()\n",
    "row = [json_object['lang'],json_object['text'], json_object['lang']]\n",
    "print(row)"
   ]
  },
  {
   "cell_type": "code",
   "execution_count": 6,
   "metadata": {},
   "outputs": [],
   "source": [
    "arr = []"
   ]
  },
  {
   "cell_type": "code",
   "execution_count": 7,
   "metadata": {},
   "outputs": [
    {
     "data": {
      "text/plain": [
       "[]"
      ]
     },
     "execution_count": 7,
     "metadata": {},
     "output_type": "execute_result"
    }
   ],
   "source": [
    "arr"
   ]
  },
  {
   "cell_type": "code",
   "execution_count": 9,
   "metadata": {},
   "outputs": [],
   "source": [
    "for i in range(0,50000):\n",
    "    json_object = json.loads(df['original'][i])\n",
    "    json_object.items()\n",
    "    try:\n",
    "        row = [json_object['text'],json_object['favorite_count'],json_object['retweet_count'], json_object['created_at'],json_object['user']['friends_count'],json_object['user']['followers_count'],json_object['lang']]\n",
    "    except:\n",
    "        row = [json_object['full_text'],json_object['favorite_count'],json_object['retweet_count'], json_object['created_at'],json_object['user']['friends_count'],json_object['user']['followers_count'],json_object['lang']]\n",
    "    arr.append(row)\n",
    "    \n",
    "    "
   ]
  },
  {
   "cell_type": "code",
   "execution_count": 13,
   "metadata": {},
   "outputs": [
    {
     "data": {
      "text/plain": [
       "50312"
      ]
     },
     "execution_count": 13,
     "metadata": {},
     "output_type": "execute_result"
    }
   ],
   "source": [
    "len(arr)"
   ]
  },
  {
   "cell_type": "code",
   "execution_count": 14,
   "metadata": {},
   "outputs": [],
   "source": [
    "import csv\n",
    "f = open('refined_data.csv', 'w')\n",
    "with f:\n",
    "\n",
    "    writer = csv.writer(f)\n",
    "    \n",
    "    for row in arr:\n",
    "        writer.writerow(row)"
   ]
  },
  {
   "cell_type": "code",
   "execution_count": 83,
   "metadata": {},
   "outputs": [],
   "source": [
    "import pandas as pd\n",
    "import numpy as np\n",
    "\n",
    "from vaderSentiment.vaderSentiment import SentimentIntensityAnalyzer\n",
    "analyzer = SentimentIntensityAnalyzer()\n",
    "# Read in the comment into a dataframe\n",
    "df = pd.read_csv('refined_data.csv')\n",
    "# Analyze the comment\n",
    "\n",
    "sentiment_arr = []"
   ]
  },
  {
   "cell_type": "code",
   "execution_count": 85,
   "metadata": {},
   "outputs": [],
   "source": [
    "for i in range(0,50311):\n",
    "    sample = df.iloc[i,0]\n",
    "    compound = analyzer.polarity_scores(sample)['compound']\n",
    "    pos = analyzer.polarity_scores(sample)['pos']\n",
    "    neu = analyzer.polarity_scores(sample)['neu']\n",
    "    neg = analyzer.polarity_scores(sample)['neg']\n",
    "    row = [compound,pos,neu,neg]\n",
    "    sentiment_arr.append(row)"
   ]
  },
  {
   "cell_type": "code",
   "execution_count": 86,
   "metadata": {},
   "outputs": [
    {
     "data": {
      "text/plain": [
       "50311"
      ]
     },
     "execution_count": 86,
     "metadata": {},
     "output_type": "execute_result"
    }
   ],
   "source": [
    "len(sentiment_arr)"
   ]
  },
  {
   "cell_type": "code",
   "execution_count": 87,
   "metadata": {},
   "outputs": [],
   "source": [
    "import csv\n",
    "f = open('sentiment_data.csv', 'w')\n",
    "with f:\n",
    "\n",
    "    writer = csv.writer(f)\n",
    "    \n",
    "    for row in sentiment_arr:\n",
    "        writer.writerow(row)"
   ]
  }
 ],
 "metadata": {
  "kernelspec": {
   "display_name": "Python 3",
   "language": "python",
   "name": "python3"
  },
  "language_info": {
   "codemirror_mode": {
    "name": "ipython",
    "version": 3
   },
   "file_extension": ".py",
   "mimetype": "text/x-python",
   "name": "python",
   "nbconvert_exporter": "python",
   "pygments_lexer": "ipython3",
   "version": "3.8.3"
  }
 },
 "nbformat": 4,
 "nbformat_minor": 4
}
