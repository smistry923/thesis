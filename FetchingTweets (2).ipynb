{
 "cells": [
  {
   "cell_type": "markdown",
   "metadata": {},
   "source": [
    "## Fetching Tweets"
   ]
  },
  {
   "cell_type": "code",
   "execution_count": 69,
   "metadata": {},
   "outputs": [],
   "source": [
    "import re \n",
    "import tweepy \n",
    "from tweepy import OAuthHandler \n",
    "from textblob import TextBlob \n",
    "import pandas as pd\n",
    "  \n",
    "class TwitterClient(object): \n",
    "    ''' \n",
    "    Generic Twitter Class for sentiment analysis. \n",
    "    '''\n",
    "    def __init__(self): \n",
    "        ''' \n",
    "        Class constructor or initialization method. \n",
    "        '''\n",
    "        # keys and tokens from the Twitter Dev Console \n",
    "        consumer_key = 'X'\n",
    "        consumer_secret = 'X'\n",
    "        access_token = 'X'\n",
    "        access_token_secret = 'X'\n",
    "      \n",
    "  \n",
    "        # attempt authentication \n",
    "        try: \n",
    "            # create OAuthHandler object \n",
    "            self.auth = OAuthHandler(consumer_key, consumer_secret) \n",
    "            # set access token and secret \n",
    "            self.auth.set_access_token(access_token, access_token_secret) \n",
    "            # create tweepy API object to fetch tweets \n",
    "            self.api = tweepy.API(self.auth) \n",
    "        except: \n",
    "            print(\"Error: Authentication Failed\") \n",
    "  \n",
    "    def clean_tweet(self, tweet): \n",
    "        ''' \n",
    "        Utility function to clean tweet text by removing links, special characters \n",
    "        using simple regex statements. \n",
    "        '''\n",
    "        return ' '.join(re.sub(\"(@[A-Za-z0-9]+)|([^0-9A-Za-z \\t])|(\\w+:\\/\\/\\S+)\", \" \", tweet).split())\n",
    "  \n",
    "    def get_tweet_sentiment(self, tweet): \n",
    "        ''' \n",
    "        Utility function to classify sentiment of passed tweet \n",
    "        using textblob's sentiment method \n",
    "        '''\n",
    "        # create TextBlob object of passed tweet text \n",
    "        analysis = TextBlob(self.clean_tweet(tweet)) \n",
    "        # set sentiment \n",
    "        if analysis.sentiment.polarity > 0: \n",
    "            return 'positive'\n",
    "        elif analysis.sentiment.polarity == 0: \n",
    "            return 'neutral'\n",
    "        else: \n",
    "            return 'negative'\n",
    "  \n",
    "    def get_tweets(self, query, count = 10): \n",
    "        ''' \n",
    "        Main function to fetch tweets and parse them. \n",
    "        '''\n",
    "        # empty list to store parsed tweets \n",
    "        tweets = [] \n",
    "  \n",
    "        try: \n",
    "            # call twitter api to fetch tweets \n",
    "            fetched_tweets = self.api.search(q = query, count = count, lang='en') \n",
    "            #fetched_tweets.to_csv('Users⁩/⁨suchita⁩/⁨Documents/Tweets.csv'⁩)\n",
    "            #print(fetched_tweets)\n",
    "            \n",
    "            # parsing tweets one by one \n",
    "            for tweet in fetched_tweets: \n",
    "                # empty dictionary to store required params of a tweet \n",
    "                parsed_tweet = {} \n",
    "  \n",
    "                # saving text of tweet \n",
    "                parsed_tweet['text'] = tweet.text \n",
    "                # saving sentiment of tweet \n",
    "                parsed_tweet['sentiment'] = self.get_tweet_sentiment(tweet.text) \n",
    "                # saving favorites of tweet\n",
    "            \n",
    "  \n",
    "                # appending parsed tweet to tweets list \n",
    "                if tweet.retweet_count > 0: \n",
    "                    # if tweet has retweets, ensure that it is appended only once \n",
    "                    if parsed_tweet not in tweets: \n",
    "                        tweets.append(parsed_tweet) \n",
    "                else: \n",
    "                    tweets.append(parsed_tweet) \n",
    "  \n",
    "            # return parsed tweets \n",
    "            return tweets \n",
    "  \n",
    "        except tweepy.TweepError as e: \n",
    "            # print error (if any) \n",
    "            print(\"Error : \" + str(e)) \n",
    "  \n",
    "def main(query_string): \n",
    "    # creating object of TwitterClient Class \n",
    "    api = TwitterClient() \n",
    "    # calling function to get tweets \n",
    "    tweets = api.get_tweets(query = query_string, count = 1)\n",
    "    print(tweets)\n",
    "\n",
    "    ''' \n",
    "    # picking positive tweets from tweets \n",
    "    ptweets = [tweet for tweet in tweets if tweet['sentiment'] == 'positive'] \n",
    "    # percentage of positive tweets \n",
    "    print(\"Positive tweets percentage: {} %\".format(100*len(ptweets)/len(tweets))) \n",
    "    # picking negative tweets from tweets \n",
    "    ntweets = [tweet for tweet in tweets if tweet['sentiment'] == 'negative'] \n",
    "    # percentage of negative tweets \n",
    "    print(\"Negative tweets percentage: {} %\".format(100*len(ntweets)/len(tweets))) \n",
    "    # percentage of neutral tweets \n",
    "    print(\"Neutral tweets percentage: {} %\".format(100*(len(tweets) -(len( ntweets )+len( ptweets)))/len(tweets))) \n",
    "  \n",
    "    # printing first 5 positive tweets \n",
    "    print(\"\\n\\nPositive tweets:\") \n",
    "    for tweet in ptweets[:10]: \n",
    "        print(tweet['text']) \n",
    "        print(tweet['favorites'])\n",
    "  \n",
    "    # printing first 5 negative tweets \n",
    "    print(\"\\n\\nNegative tweets:\") \n",
    "    for tweet in ntweets[:10]: \n",
    "        print(tweet['text']) \n",
    "        print(tweet['favorites'])\n",
    "        '''"
   ]
  },
  {
   "cell_type": "markdown",
   "metadata": {},
   "source": [
    "### Apple"
   ]
  },
  {
   "cell_type": "code",
   "execution_count": 70,
   "metadata": {},
   "outputs": [
    {
     "name": "stdout",
     "output_type": "stream",
     "text": [
      "[{'text': 'RT @Tomiwa_Davis: This is the police officer who shot a woman in the mouth and the lady he shot in Lagos State yesterday has been identifie…', 'sentiment': 'neutral'}]\n",
      "[{'text': 'RT @MacRumors: iPad Air Shipments Arriving at Apple Stores Ahead of Launch https://t.co/kK6OFqlkts by @julipuli https://t.co/fzQdkVvfZE', 'sentiment': 'neutral'}]\n",
      "[{'text': 'Remember when Imac asked Benning if he felt like taking a victory lap?\\nI do.', 'sentiment': 'neutral'}]\n",
      "[{'text': 'RT @Jeffery4192: In my country it is a sin and also a crime as a Nigerian youth to dress well and use iPhones, MacBook, AirPods. #EndSARSIm…', 'sentiment': 'neutral'}]\n"
     ]
    }
   ],
   "source": [
    "if __name__ == \"__main__\": \n",
    "    # calling main function \n",
    "    main(['iPhone'])\n",
    "    main(['iPad'])\n",
    "    main(['iMac'])\n",
    "    main(['Macbook'])"
   ]
  },
  {
   "cell_type": "markdown",
   "metadata": {},
   "source": [
    "### Google"
   ]
  },
  {
   "cell_type": "code",
   "execution_count": 58,
   "metadata": {},
   "outputs": [
    {
     "name": "stdout",
     "output_type": "stream",
     "text": [
      "[{'text': 'RT @ajplus: Today’s Google Doodle honors Mary Ann Shadd, the first Black woman newspaper editor in North America and second Black woman to…', 'sentiment': 'negative'}]\n",
      "[{'text': 'MacBook or Chromebook? Opinions needed best for business use', 'sentiment': 'positive'}]\n",
      "[{'text': 'RT @LinksForArmy: OKAY SO REGARDING MOTS ONLINE CONCERTS:\\n\\n- i will livestream both days\\n\\n- i will post a thread of links of other livestre…', 'sentiment': 'positive'}]\n",
      "[{'text': 'RT @ImagineCanada: The Canada Emergency Wage Subsidy program is complex, but the benefits can far outweigh the time it takes to determine e…', 'sentiment': 'negative'}]\n",
      "[{'text': 'Most winning trading chat!\\n\\nhttps://t.co/9AYwjeUuIX\\n\\n$FB $NFLX $AMD $MSFT $SPY $NVDA $BABA $TWTR $BTC.X $AMZN $AAPL… https://t.co/CpxZoeyEBT', 'sentiment': 'positive'}]\n"
     ]
    }
   ],
   "source": [
    "if __name__ == \"__main__\": \n",
    "    # calling main function \n",
    "    main(['Google Home'])\n",
    "    main(['Chromebook'])\n",
    "    main(['Google Drive'])\n",
    "    main(['Google Docs'])\n",
    "    main(['GOOGL'])"
   ]
  },
  {
   "cell_type": "markdown",
   "metadata": {},
   "source": [
    "### Tesla "
   ]
  },
  {
   "cell_type": "code",
   "execution_count": 62,
   "metadata": {},
   "outputs": [
    {
     "name": "stdout",
     "output_type": "stream",
     "text": [
      "[{'text': 'New Street Research sets $578 target for $TSLA. Analyst Pierre Ferragu said “Tesla’s forced march toward electrific… https://t.co/IrYOjhX3PO', 'sentiment': 'negative'}]\n",
      "[{'text': 'New Street Research sets $578 target for $TSLA. Analyst Pierre Ferragu said “Tesla’s forced march toward electrific… https://t.co/IrYOjhX3PO', 'sentiment': 'negative'}]\n",
      "[{'text': \"@Zoftwarz @PatriciaMazzei @brooksbarnesNYT 1) WDW's the model of how cities should operate on lots of subjects incl… https://t.co/62ztFOkvRX\", 'sentiment': 'neutral'}]\n",
      "[{'text': '@elonmusk @franktinsley @ankitXupta @TashaARK Since even humans get stumped by some weird situations, why not let F… https://t.co/topyfhuCWz', 'sentiment': 'negative'}]\n",
      "[]\n",
      "[{'text': '@apetechda @SnazzyQ I’m pretty sure he did a model 3 review a long time ago. Can’t remember if he made any comparisons to the S though.', 'sentiment': 'positive'}]\n",
      "[{'text': \"@Zoftwarz @PatriciaMazzei @brooksbarnesNYT 1) WDW's the model of how cities should operate on lots of subjects incl… https://t.co/62ztFOkvRX\", 'sentiment': 'neutral'}]\n",
      "[{'text': '@elonmusk @franktinsley @ankitXupta @TashaARK Since even humans get stumped by some weird situations, why not let F… https://t.co/topyfhuCWz', 'sentiment': 'negative'}]\n",
      "[]\n",
      "[{'text': '@apetechda @SnazzyQ I’m pretty sure he did a model 3 review a long time ago. Can’t remember if he made any comparisons to the S though.', 'sentiment': 'positive'}]\n"
     ]
    }
   ],
   "source": [
    "if __name__ == \"__main__\": \n",
    "    # calling main function \n",
    "    main(['Tesla'])\n",
    "    main(['TSLA'])\n",
    "    main(['Model 3'])\n",
    "    main(['Model x'])\n",
    "    main(['Model y'])\n",
    "    main(['Model s'])\n",
    "    main(['model 3'])\n",
    "    main(['model x'])\n",
    "    main(['model y'])\n",
    "    main(['model s'])"
   ]
  },
  {
   "cell_type": "markdown",
   "metadata": {},
   "source": [
    "### Exxon "
   ]
  },
  {
   "cell_type": "code",
   "execution_count": 63,
   "metadata": {},
   "outputs": [
    {
     "name": "stdout",
     "output_type": "stream",
     "text": [
      "[{'text': \"Here's a succinct summary of why State of New York is suing Exxon Mobil for the deliberate misleading of shareholde… https://t.co/5yk81XmFTf\", 'sentiment': 'positive'}]\n",
      "[{'text': 'RT @ShareAction: The Church of England Pensions Board has sold all its holdings of #Exxon because the oil giant failed to set goals to redu…', 'sentiment': 'negative'}]\n",
      "[{'text': 'RT @ShareAction: The Church of England Pensions Board has sold all its holdings of #Exxon because the oil giant failed to set goals to redu…', 'sentiment': 'negative'}]\n",
      "[{'text': '✅Stocks \\n✅Options \\n✅Day trading \\n✅Swing Trading \\n\\n💯 \\n\\n$OXY $CHK $GLD $VAL $OAS $DGLY $NE $SPCB $WLL $MRO $XOG $PACD… https://t.co/Dis1qx7BRj', 'sentiment': 'neutral'}]\n"
     ]
    }
   ],
   "source": [
    "if __name__ == \"__main__\": \n",
    "    # calling main function \n",
    "    main(['Exxon Mobil'])\n",
    "    main(['ExxonMobil'])\n",
    "    main(['Exxon'])\n",
    "    main(['XOM'])"
   ]
  }
 ],
 "metadata": {
  "kernelspec": {
   "display_name": "Python 3",
   "language": "python",
   "name": "python3"
  },
  "language_info": {
   "codemirror_mode": {
    "name": "ipython",
    "version": 3
   },
   "file_extension": ".py",
   "mimetype": "text/x-python",
   "name": "python",
   "nbconvert_exporter": "python",
   "pygments_lexer": "ipython3",
   "version": "3.7.1"
  }
 },
 "nbformat": 4,
 "nbformat_minor": 2
}
